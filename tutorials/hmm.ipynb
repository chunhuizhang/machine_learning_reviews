{
 "cells": [
  {
   "cell_type": "code",
   "execution_count": 4,
   "id": "5d320742",
   "metadata": {
    "ExecuteTime": {
     "end_time": "2023-10-11T12:33:14.477258Z",
     "start_time": "2023-10-11T12:33:14.472362Z"
    }
   },
   "outputs": [],
   "source": [
    "#!pip install hmmlearn"
   ]
  },
  {
   "cell_type": "markdown",
   "id": "186c80bf",
   "metadata": {},
   "source": [
    "## 一个例子"
   ]
  },
  {
   "cell_type": "markdown",
   "id": "62ab1e41",
   "metadata": {},
   "source": [
    "- https://en.wikipedia.org/wiki/Viterbi_algorithm#Example\n",
    "    - The steps of states are Healthy Healthy Fever with highest probability of 0.01512\n",
    "- 两个需要重点关注的应用\n",
    "    - fit/training：从数据中计算得到模型参数\n",
    "    - decoding"
   ]
  },
  {
   "cell_type": "code",
   "execution_count": 11,
   "id": "55f5d421",
   "metadata": {
    "ExecuteTime": {
     "end_time": "2023-10-12T12:34:30.292457Z",
     "start_time": "2023-10-12T12:34:30.281241Z"
    }
   },
   "outputs": [
    {
     "name": "stdout",
     "output_type": "stream",
     "text": [
      "(-4.19173690823075, array([0, 0, 1]))\n"
     ]
    }
   ],
   "source": [
    "import numpy as np\n",
    "from hmmlearn.hmm import CategoricalHMM\n",
    "\n",
    "# model = hmm.CategoricalHMM(n_components=n_states)\n",
    "model = CategoricalHMM(n_components=2)\n"
   ]
  },
  {
   "cell_type": "markdown",
   "id": "c7db0dab",
   "metadata": {},
   "source": [
    "### decoding"
   ]
  },
  {
   "cell_type": "code",
   "execution_count": 13,
   "id": "4432d95f",
   "metadata": {
    "ExecuteTime": {
     "end_time": "2023-10-12T12:35:41.196590Z",
     "start_time": "2023-10-12T12:35:41.187656Z"
    }
   },
   "outputs": [
    {
     "name": "stdout",
     "output_type": "stream",
     "text": [
      "(-4.19173690823075, array([0, 0, 1]))\n"
     ]
    }
   ],
   "source": [
    "model.startprob_ = [.6, .4]\n",
    "model.transmat_ = [[.7, .3], [.4, .6]]\n",
    "model.emissionprob_ = [[.5, .4, .1], [.1, .3, .6]]\n",
    "\n",
    "# 不学习（不先 fit），直接 decode/预测 \n",
    "print(model.decode([[0, 1, 2]]))"
   ]
  },
  {
   "cell_type": "code",
   "execution_count": 9,
   "id": "33b7f9d8",
   "metadata": {
    "ExecuteTime": {
     "end_time": "2023-10-11T12:34:22.321193Z",
     "start_time": "2023-10-11T12:34:22.306012Z"
    }
   },
   "outputs": [
    {
     "data": {
      "text/plain": [
       "-4.19173690823075"
      ]
     },
     "execution_count": 9,
     "metadata": {},
     "output_type": "execute_result"
    }
   ],
   "source": [
    "np.log(0.01512)"
   ]
  }
 ],
 "metadata": {
  "kernelspec": {
   "display_name": "Python 3 (ipykernel)",
   "language": "python",
   "name": "python3"
  },
  "language_info": {
   "codemirror_mode": {
    "name": "ipython",
    "version": 3
   },
   "file_extension": ".py",
   "mimetype": "text/x-python",
   "name": "python",
   "nbconvert_exporter": "python",
   "pygments_lexer": "ipython3",
   "version": "3.10.9"
  },
  "toc": {
   "base_numbering": 1,
   "nav_menu": {},
   "number_sections": true,
   "sideBar": true,
   "skip_h1_title": false,
   "title_cell": "Table of Contents",
   "title_sidebar": "Contents",
   "toc_cell": false,
   "toc_position": {},
   "toc_section_display": true,
   "toc_window_display": false
  }
 },
 "nbformat": 4,
 "nbformat_minor": 5
}
