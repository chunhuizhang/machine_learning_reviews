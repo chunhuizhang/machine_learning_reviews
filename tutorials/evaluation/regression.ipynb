{
 "cells": [
  {
   "cell_type": "markdown",
   "id": "2a6d328d-b690-4afe-a533-615002038896",
   "metadata": {},
   "source": [
    "### R^2"
   ]
  },
  {
   "cell_type": "markdown",
   "id": "193464b5-cf8c-494e-9e89-9037a7bd56b0",
   "metadata": {},
   "source": [
    "\n",
    "$$\n",
    "\\begin{split}\n",
    "&SS_{\\text{res}} = \\sum_i (y_i - f_i)^2 = \\sum_i e_i^2\\\\\n",
    "&SS_{\\text{tot}} = \\sum_i (y_i - \\bar{y})^2\\\\\n",
    "&R^2 = 1 - \\frac{SS_{\\text{res}}}{SS_{\\text{tot}}}\\\\\n",
    "\\end{split}\n",
    "$$\n",
    "- R^2\n",
    "    - $S_{\\text{res}}$ residual sum of squares:\n",
    "    - $S_{\\text{tot}}$ total sum of squares (proportional to the variance of the data):\n",
    "- R²的取值范围通常在0到1之间，1表示完美拟合，0表示模型没有解释任何变异。\n",
    "    - 用均值做预测时，R^2为0；\n",
    "    - 如果R²为负值，说明模型的预测能力比简单地用平均值预测还要差。\n",
    "- 一个训练监督的经验（mse loss 与 r2）\n",
    "    - 注意 loss 的相对性，高低不是绝对的，而是相对的，好坏还是要看 val data 上的 r2；\n",
    "    - mse loss 的取值，0-1 之间，0.1 的偏差就会导致 mse 达到 0.01，这个时候，打印 loss 的时候，至少要保留4位小数；"
   ]
  }
 ],
 "metadata": {
  "kernelspec": {
   "display_name": "Python 3 (ipykernel)",
   "language": "python",
   "name": "python3"
  },
  "language_info": {
   "codemirror_mode": {
    "name": "ipython",
    "version": 3
   },
   "file_extension": ".py",
   "mimetype": "text/x-python",
   "name": "python",
   "nbconvert_exporter": "python",
   "pygments_lexer": "ipython3",
   "version": "3.10.13"
  }
 },
 "nbformat": 4,
 "nbformat_minor": 5
}
