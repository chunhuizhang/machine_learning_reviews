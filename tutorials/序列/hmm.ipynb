{
 "cells": [
  {
   "cell_type": "code",
   "execution_count": 6,
   "id": "5d320742",
   "metadata": {
    "ExecuteTime": {
     "end_time": "2023-10-11T12:33:14.477258Z",
     "start_time": "2023-10-11T12:33:14.472362Z"
    },
    "execution": {
     "iopub.execute_input": "2024-10-15T15:20:29.518927Z",
     "iopub.status.busy": "2024-10-15T15:20:29.518287Z",
     "iopub.status.idle": "2024-10-15T15:20:29.528911Z",
     "shell.execute_reply": "2024-10-15T15:20:29.526617Z",
     "shell.execute_reply.started": "2024-10-15T15:20:29.518880Z"
    }
   },
   "outputs": [],
   "source": [
    "#!pip install hmmlearn\n",
    "from IPython.display import Image"
   ]
  },
  {
   "cell_type": "markdown",
   "id": "62ab1e41",
   "metadata": {},
   "source": [
    "- 两个需要重点关注的应用\n",
    "    - fit/training：从数据中计算得到模型参数\n",
    "    - decoding\n",
    "- model 的三大成员\n",
    "    - `startprob_`：prior probabiliy（向量）\n",
    "    - `transmat_`：转移概率矩阵\n",
    "    - `emissionprob_`：\n",
    "- 成员函数\n",
    "    - decode：基于 observation 预测 hidden states\n",
    "- 其他细节\n",
    "    - multi (observations) sequences：\n",
    "        - model.fit(X, `lenghts`)：lengths 刻画的各个sequence的长度；\n",
    "        - https://hmmlearn.readthedocs.io/en/latest/tutorial.html"
   ]
  },
  {
   "cell_type": "markdown",
   "id": "17c31b41-37c4-4a69-9572-394e4f54b435",
   "metadata": {},
   "source": [
    "### Categorical hmm vs. Multinomial"
   ]
  },
  {
   "cell_type": "markdown",
   "id": "68a01273-c636-492b-aef1-d93466138f58",
   "metadata": {},
   "source": [
    "The Multinomial HMM is a **generalization** of the Categorical HMM, with some key differences:\n",
    "\n",
    "- a Categorical (or generalized Bernoulli/multinoulli) distribution models an outcome of a die with `n_features` possible values,\n",
    "    - a Categorical HMM has the emission probabilities for each component parametrized by Categorical distributions.\n",
    "- a Multinomial distribution models the outcome of `n_trials` independent rolls of die, each with `n_features` possible values; i.e.\n",
    "    - when n_trials = 1 and n_features = 2, it is a Bernoulli distribution,（伯努利分布）\n",
    "    - when n_trials = 1 and n_features > 2, it is a Categorical distribution.\n",
    "    - when n_trials > 1 and n_features = 2, it is a Binomial distribution,\n",
    "        - Multinomial 引入了 trials，是 Categorical 的泛化；\n",
    "- https://hmmlearn.readthedocs.io/en/latest/auto_examples/plot_multinomial_hmm.html"
   ]
  },
  {
   "cell_type": "code",
   "execution_count": null,
   "id": "8caee085-7410-4f1d-bd7f-025c9e96759b",
   "metadata": {},
   "outputs": [],
   "source": []
  },
  {
   "cell_type": "markdown",
   "id": "6be6b3a5-72f9-4d91-aa2c-27a0d27b50f4",
   "metadata": {},
   "source": [
    "### 一个例子"
   ]
  },
  {
   "cell_type": "markdown",
   "id": "49a04916-6a93-4b5a-b236-a2bcb34a04f0",
   "metadata": {},
   "source": [
    "- https://en.wikipedia.org/wiki/Viterbi_algorithm#Example\n",
    "    - The steps of states are `[Healthy, Healthy, Fever]` with highest probability of 0.01512"
   ]
  },
  {
   "cell_type": "code",
   "execution_count": 13,
   "id": "ef21f119-4681-46b9-85ab-3b9071609236",
   "metadata": {
    "execution": {
     "iopub.execute_input": "2024-10-15T15:26:04.359360Z",
     "iopub.status.busy": "2024-10-15T15:26:04.358701Z",
     "iopub.status.idle": "2024-10-15T15:26:04.371514Z",
     "shell.execute_reply": "2024-10-15T15:26:04.369446Z",
     "shell.execute_reply.started": "2024-10-15T15:26:04.359313Z"
    }
   },
   "outputs": [
    {
     "data": {
      "text/html": [
       "<img src=\"./imgs/graph_hmm.png\" width=\"400\"/>"
      ],
      "text/plain": [
       "<IPython.core.display.Image object>"
      ]
     },
     "execution_count": 13,
     "metadata": {},
     "output_type": "execute_result"
    }
   ],
   "source": [
    "# Graphical representation of the given HMM\n",
    "Image(url='./imgs/graph_hmm.png', width=400)"
   ]
  },
  {
   "cell_type": "code",
   "execution_count": 2,
   "id": "55f5d421",
   "metadata": {
    "ExecuteTime": {
     "end_time": "2023-10-12T12:34:30.292457Z",
     "start_time": "2023-10-12T12:34:30.281241Z"
    },
    "execution": {
     "iopub.execute_input": "2024-10-15T15:15:32.961753Z",
     "iopub.status.busy": "2024-10-15T15:15:32.961386Z",
     "iopub.status.idle": "2024-10-15T15:15:32.969132Z",
     "shell.execute_reply": "2024-10-15T15:15:32.967054Z",
     "shell.execute_reply.started": "2024-10-15T15:15:32.961732Z"
    }
   },
   "outputs": [],
   "source": [
    "import numpy as np\n",
    "from hmmlearn.hmm import CategoricalHMM\n",
    "\n",
    "# model = hmm.CategoricalHMM(n_components=n_states)\n",
    "model = CategoricalHMM(n_components=2)"
   ]
  },
  {
   "cell_type": "markdown",
   "id": "c7db0dab",
   "metadata": {},
   "source": [
    "### decoding"
   ]
  },
  {
   "cell_type": "code",
   "execution_count": 4,
   "id": "4432d95f",
   "metadata": {
    "ExecuteTime": {
     "end_time": "2023-10-12T12:35:41.196590Z",
     "start_time": "2023-10-12T12:35:41.187656Z"
    },
    "execution": {
     "iopub.execute_input": "2024-10-15T15:18:43.881550Z",
     "iopub.status.busy": "2024-10-15T15:18:43.880885Z",
     "iopub.status.idle": "2024-10-15T15:18:43.895089Z",
     "shell.execute_reply": "2024-10-15T15:18:43.892853Z",
     "shell.execute_reply.started": "2024-10-15T15:18:43.881503Z"
    }
   },
   "outputs": [
    {
     "name": "stdout",
     "output_type": "stream",
     "text": [
      "(-4.19173690823075, array([0, 0, 1]))\n"
     ]
    }
   ],
   "source": [
    "model.startprob_ = [.6, .4]\n",
    "model.transmat_ = [[.7, .3], [.4, .6]]\n",
    "model.emissionprob_ = [[.5, .4, .1], [.1, .3, .6]]\n",
    "\n",
    "# 不学习（不先 fit），直接 decode/预测 \n",
    "print(model.decode([[0, 1, 2]]))"
   ]
  },
  {
   "cell_type": "code",
   "execution_count": 5,
   "id": "33b7f9d8",
   "metadata": {
    "ExecuteTime": {
     "end_time": "2023-10-11T12:34:22.321193Z",
     "start_time": "2023-10-11T12:34:22.306012Z"
    },
    "execution": {
     "iopub.execute_input": "2024-10-15T15:18:45.207959Z",
     "iopub.status.busy": "2024-10-15T15:18:45.207358Z",
     "iopub.status.idle": "2024-10-15T15:18:45.227498Z",
     "shell.execute_reply": "2024-10-15T15:18:45.225251Z",
     "shell.execute_reply.started": "2024-10-15T15:18:45.207913Z"
    }
   },
   "outputs": [
    {
     "data": {
      "text/plain": [
       "-4.19173690823075"
      ]
     },
     "execution_count": 5,
     "metadata": {},
     "output_type": "execute_result"
    }
   ],
   "source": [
    "np.log(0.01512)"
   ]
  },
  {
   "cell_type": "markdown",
   "id": "ff09a004-4891-4160-baa5-eeae69d14d88",
   "metadata": {},
   "source": [
    "### language or (symbolic) sequences"
   ]
  },
  {
   "cell_type": "code",
   "execution_count": 12,
   "id": "c07cc65d-7006-4be0-b320-a8363a545749",
   "metadata": {
    "execution": {
     "iopub.execute_input": "2024-10-15T15:22:22.717465Z",
     "iopub.status.busy": "2024-10-15T15:22:22.716815Z",
     "iopub.status.idle": "2024-10-15T15:22:22.730541Z",
     "shell.execute_reply": "2024-10-15T15:22:22.728360Z",
     "shell.execute_reply.started": "2024-10-15T15:22:22.717419Z"
    }
   },
   "outputs": [
    {
     "data": {
      "text/plain": [
       "{0: 'cat', 1: 'dog'}"
      ]
     },
     "execution_count": 12,
     "metadata": {},
     "output_type": "execute_result"
    }
   ],
   "source": [
    "# label encodeing\n",
    "states = [\"cat\", \"dog\"]\n",
    "id2topic = dict(zip(range(len(states)), states))\n",
    "id2topic"
   ]
  },
  {
   "cell_type": "code",
   "execution_count": null,
   "id": "fe5244e3-b1e2-4fba-967e-a369bb89430f",
   "metadata": {},
   "outputs": [],
   "source": []
  }
 ],
 "metadata": {
  "kernelspec": {
   "display_name": "Python 3 (ipykernel)",
   "language": "python",
   "name": "python3"
  },
  "language_info": {
   "codemirror_mode": {
    "name": "ipython",
    "version": 3
   },
   "file_extension": ".py",
   "mimetype": "text/x-python",
   "name": "python",
   "nbconvert_exporter": "python",
   "pygments_lexer": "ipython3",
   "version": "3.10.13"
  },
  "toc": {
   "base_numbering": 1,
   "nav_menu": {},
   "number_sections": true,
   "sideBar": true,
   "skip_h1_title": false,
   "title_cell": "Table of Contents",
   "title_sidebar": "Contents",
   "toc_cell": false,
   "toc_position": {},
   "toc_section_display": true,
   "toc_window_display": false
  }
 },
 "nbformat": 4,
 "nbformat_minor": 5
}
