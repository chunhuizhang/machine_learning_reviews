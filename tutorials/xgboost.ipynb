{
 "cells": [
  {
   "cell_type": "code",
   "execution_count": 1,
   "id": "96e0fc4a-87d2-4807-8d73-815dfd5faddd",
   "metadata": {},
   "outputs": [],
   "source": [
    "from IPython.display import Image"
   ]
  },
  {
   "cell_type": "markdown",
   "id": "49b5632e-665e-4e63-be99-fc9b24385575",
   "metadata": {},
   "source": [
    "- https://towardsdatascience.com/xgboost-the-definitive-guide-part-1-cc24d2dcd87a\n",
    "    - toy dataset 计算细节\n",
    "- 更多地利用 loss function 的信息（从一阶导数，到二阶导数） => 更快的学习和收敛速度；"
   ]
  },
  {
   "cell_type": "code",
   "execution_count": 3,
   "id": "7a580f98-6514-4eaa-8c78-d1983c11e2dc",
   "metadata": {},
   "outputs": [
    {
     "data": {
      "text/html": [
       "<img src=\"https://miro.medium.com/v2/resize:fit:1400/format:webp/1*OYQhveVGBnvgiUfIE2AOYw.png\" width=\"500\"/>"
      ],
      "text/plain": [
       "<IPython.core.display.Image object>"
      ]
     },
     "execution_count": 3,
     "metadata": {},
     "output_type": "execute_result"
    }
   ],
   "source": [
    "Image(url='https://miro.medium.com/v2/resize:fit:1400/format:webp/1*OYQhveVGBnvgiUfIE2AOYw.png', width=500)"
   ]
  }
 ],
 "metadata": {
  "kernelspec": {
   "display_name": "Python 3 (ipykernel)",
   "language": "python",
   "name": "python3"
  },
  "language_info": {
   "codemirror_mode": {
    "name": "ipython",
    "version": 3
   },
   "file_extension": ".py",
   "mimetype": "text/x-python",
   "name": "python",
   "nbconvert_exporter": "python",
   "pygments_lexer": "ipython3",
   "version": "3.10.13"
  }
 },
 "nbformat": 4,
 "nbformat_minor": 5
}
