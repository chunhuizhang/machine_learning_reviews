{
 "cells": [
  {
   "cell_type": "markdown",
   "id": "801f52d4",
   "metadata": {},
   "source": [
    "- references\n",
    "    - https://people.cs.umass.edu/~sheldon/teaching/cs335/lec/12-demo.html"
   ]
  },
  {
   "cell_type": "code",
   "execution_count": 1,
   "id": "445cf9d3",
   "metadata": {
    "ExecuteTime": {
     "end_time": "2023-11-07T15:21:33.915685Z",
     "start_time": "2023-11-07T15:21:33.308300Z"
    }
   },
   "outputs": [],
   "source": [
    "from sklearn import svm"
   ]
  },
  {
   "cell_type": "code",
   "execution_count": 2,
   "id": "b679a472",
   "metadata": {
    "ExecuteTime": {
     "end_time": "2023-11-07T15:21:37.845719Z",
     "start_time": "2023-11-07T15:21:37.791716Z"
    }
   },
   "outputs": [],
   "source": [
    "svm.SVC??"
   ]
  }
 ],
 "metadata": {
  "kernelspec": {
   "display_name": "Python 3 (ipykernel)",
   "language": "python",
   "name": "python3"
  },
  "language_info": {
   "codemirror_mode": {
    "name": "ipython",
    "version": 3
   },
   "file_extension": ".py",
   "mimetype": "text/x-python",
   "name": "python",
   "nbconvert_exporter": "python",
   "pygments_lexer": "ipython3",
   "version": "3.10.9"
  },
  "toc": {
   "base_numbering": 1,
   "nav_menu": {},
   "number_sections": true,
   "sideBar": true,
   "skip_h1_title": false,
   "title_cell": "Table of Contents",
   "title_sidebar": "Contents",
   "toc_cell": false,
   "toc_position": {},
   "toc_section_display": true,
   "toc_window_display": false
  }
 },
 "nbformat": 4,
 "nbformat_minor": 5
}
