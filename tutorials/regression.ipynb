{
 "cells": [
  {
   "cell_type": "markdown",
   "id": "9a3dc683-7c88-4fd1-84a5-5fa5390e5937",
   "metadata": {},
   "source": [
    "### ridge regression"
   ]
  },
  {
   "cell_type": "markdown",
   "id": "54ff7d1c-c891-4e23-83c5-5584d2970ee8",
   "metadata": {},
   "source": [
    "$$\n",
    "||y - Xw||^2_2 + \\alpha  ||w||^2_2\n",
    "$$\n",
    "\n",
    "- `alphas = [0.0001, 0.001, 0.01, 0.1, 1, 10, 100, 1000, 10000]`"
   ]
  }
 ],
 "metadata": {
  "kernelspec": {
   "display_name": "Python 3 (ipykernel)",
   "language": "python",
   "name": "python3"
  },
  "language_info": {
   "codemirror_mode": {
    "name": "ipython",
    "version": 3
   },
   "file_extension": ".py",
   "mimetype": "text/x-python",
   "name": "python",
   "nbconvert_exporter": "python",
   "pygments_lexer": "ipython3",
   "version": "3.10.13"
  }
 },
 "nbformat": 4,
 "nbformat_minor": 5
}
