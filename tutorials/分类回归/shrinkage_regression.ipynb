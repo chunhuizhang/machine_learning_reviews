{
 "cells": [
  {
   "cell_type": "markdown",
   "id": "2e38066e-0a2c-41c9-b29b-ef39fe169232",
   "metadata": {},
   "source": [
    "- 在回归分析中，**shrinkage（收缩）**指的是通过某种正则化技术将回归系数的绝对值缩小，从而减少模型的复杂度，防止过拟合，并提高模型的泛化能力。具体来说，shrinkage 通过在损失函数中添加惩罚项，使得某些回归系数向零收缩。\n",
    "- Ridge 回归（岭回归）在损失函数中加入了系数的 L2 范数惩罚项，即平方和。这种方法会使得回归系数向零收缩，但通常不会使系数恰好为零，从而保持所有特征在模型中。\n",
    "- Lasso 回归（最小绝对收缩和选择算子）在损失函数中加入了系数的 L1 范数惩罚项，即绝对值和。这种方法不仅会使回归系数向零收缩，**还可能导致某些系数恰好为零**，从而实现**特征选择**。"
   ]
  },
  {
   "cell_type": "code",
   "execution_count": 1,
   "id": "4c5ab95c-8c64-48bf-b0c6-fa6ec4cbd28d",
   "metadata": {
    "execution": {
     "iopub.execute_input": "2024-12-16T14:16:18.140857Z",
     "iopub.status.busy": "2024-12-16T14:16:18.140201Z",
     "iopub.status.idle": "2024-12-16T14:16:19.223998Z",
     "shell.execute_reply": "2024-12-16T14:16:19.222559Z",
     "shell.execute_reply.started": "2024-12-16T14:16:18.140808Z"
    }
   },
   "outputs": [],
   "source": [
    "import numpy as np\n",
    "import matplotlib.pyplot as plt\n",
    "from sklearn.linear_model import LinearRegression, Ridge, Lasso\n",
    "from sklearn.preprocessing import StandardScaler\n",
    "from sklearn.datasets import make_regression\n",
    "from sklearn.model_selection import train_test_split\n",
    "\n",
    "# 生成模拟数据\n",
    "np.random.seed(0)\n",
    "X, y, coef = make_regression(n_samples=100, n_features=20, coef=True, noise=10, random_state=42)\n",
    "\n",
    "# 分割数据集\n",
    "X_train, X_test, y_train, y_test = train_test_split(X, y, test_size=0.2, random_state=42)\n",
    "\n",
    "# 标准化特征\n",
    "scaler = StandardScaler()\n",
    "X_train_scaled = scaler.fit_transform(X_train)\n",
    "X_test_scaled = scaler.transform(X_test)"
   ]
  },
  {
   "cell_type": "code",
   "execution_count": 26,
   "id": "35c9b056-cc30-4fca-985d-04e00bf9628c",
   "metadata": {
    "execution": {
     "iopub.execute_input": "2024-12-16T14:24:03.301242Z",
     "iopub.status.busy": "2024-12-16T14:24:03.300612Z",
     "iopub.status.idle": "2024-12-16T14:24:03.311481Z",
     "shell.execute_reply": "2024-12-16T14:24:03.309225Z",
     "shell.execute_reply.started": "2024-12-16T14:24:03.301197Z"
    }
   },
   "outputs": [],
   "source": [
    "# 定义模型\n",
    "ols = LinearRegression()\n",
    "ridge = Ridge(alpha=5.0)\n",
    "lasso = Lasso(alpha=2.)"
   ]
  },
  {
   "cell_type": "code",
   "execution_count": 27,
   "id": "b48a2324-7eac-4f81-8802-2691aedce797",
   "metadata": {
    "execution": {
     "iopub.execute_input": "2024-12-16T14:24:04.541478Z",
     "iopub.status.busy": "2024-12-16T14:24:04.540890Z",
     "iopub.status.idle": "2024-12-16T14:24:04.565742Z",
     "shell.execute_reply": "2024-12-16T14:24:04.563456Z",
     "shell.execute_reply.started": "2024-12-16T14:24:04.541435Z"
    }
   },
   "outputs": [
    {
     "data": {
      "text/html": [
       "<style>#sk-container-id-6 {color: black;}#sk-container-id-6 pre{padding: 0;}#sk-container-id-6 div.sk-toggleable {background-color: white;}#sk-container-id-6 label.sk-toggleable__label {cursor: pointer;display: block;width: 100%;margin-bottom: 0;padding: 0.3em;box-sizing: border-box;text-align: center;}#sk-container-id-6 label.sk-toggleable__label-arrow:before {content: \"▸\";float: left;margin-right: 0.25em;color: #696969;}#sk-container-id-6 label.sk-toggleable__label-arrow:hover:before {color: black;}#sk-container-id-6 div.sk-estimator:hover label.sk-toggleable__label-arrow:before {color: black;}#sk-container-id-6 div.sk-toggleable__content {max-height: 0;max-width: 0;overflow: hidden;text-align: left;background-color: #f0f8ff;}#sk-container-id-6 div.sk-toggleable__content pre {margin: 0.2em;color: black;border-radius: 0.25em;background-color: #f0f8ff;}#sk-container-id-6 input.sk-toggleable__control:checked~div.sk-toggleable__content {max-height: 200px;max-width: 100%;overflow: auto;}#sk-container-id-6 input.sk-toggleable__control:checked~label.sk-toggleable__label-arrow:before {content: \"▾\";}#sk-container-id-6 div.sk-estimator input.sk-toggleable__control:checked~label.sk-toggleable__label {background-color: #d4ebff;}#sk-container-id-6 div.sk-label input.sk-toggleable__control:checked~label.sk-toggleable__label {background-color: #d4ebff;}#sk-container-id-6 input.sk-hidden--visually {border: 0;clip: rect(1px 1px 1px 1px);clip: rect(1px, 1px, 1px, 1px);height: 1px;margin: -1px;overflow: hidden;padding: 0;position: absolute;width: 1px;}#sk-container-id-6 div.sk-estimator {font-family: monospace;background-color: #f0f8ff;border: 1px dotted black;border-radius: 0.25em;box-sizing: border-box;margin-bottom: 0.5em;}#sk-container-id-6 div.sk-estimator:hover {background-color: #d4ebff;}#sk-container-id-6 div.sk-parallel-item::after {content: \"\";width: 100%;border-bottom: 1px solid gray;flex-grow: 1;}#sk-container-id-6 div.sk-label:hover label.sk-toggleable__label {background-color: #d4ebff;}#sk-container-id-6 div.sk-serial::before {content: \"\";position: absolute;border-left: 1px solid gray;box-sizing: border-box;top: 0;bottom: 0;left: 50%;z-index: 0;}#sk-container-id-6 div.sk-serial {display: flex;flex-direction: column;align-items: center;background-color: white;padding-right: 0.2em;padding-left: 0.2em;position: relative;}#sk-container-id-6 div.sk-item {position: relative;z-index: 1;}#sk-container-id-6 div.sk-parallel {display: flex;align-items: stretch;justify-content: center;background-color: white;position: relative;}#sk-container-id-6 div.sk-item::before, #sk-container-id-6 div.sk-parallel-item::before {content: \"\";position: absolute;border-left: 1px solid gray;box-sizing: border-box;top: 0;bottom: 0;left: 50%;z-index: -1;}#sk-container-id-6 div.sk-parallel-item {display: flex;flex-direction: column;z-index: 1;position: relative;background-color: white;}#sk-container-id-6 div.sk-parallel-item:first-child::after {align-self: flex-end;width: 50%;}#sk-container-id-6 div.sk-parallel-item:last-child::after {align-self: flex-start;width: 50%;}#sk-container-id-6 div.sk-parallel-item:only-child::after {width: 0;}#sk-container-id-6 div.sk-dashed-wrapped {border: 1px dashed gray;margin: 0 0.4em 0.5em 0.4em;box-sizing: border-box;padding-bottom: 0.4em;background-color: white;}#sk-container-id-6 div.sk-label label {font-family: monospace;font-weight: bold;display: inline-block;line-height: 1.2em;}#sk-container-id-6 div.sk-label-container {text-align: center;}#sk-container-id-6 div.sk-container {/* jupyter's `normalize.less` sets `[hidden] { display: none; }` but bootstrap.min.css set `[hidden] { display: none !important; }` so we also need the `!important` here to be able to override the default hidden behavior on the sphinx rendered scikit-learn.org. See: https://github.com/scikit-learn/scikit-learn/issues/21755 */display: inline-block !important;position: relative;}#sk-container-id-6 div.sk-text-repr-fallback {display: none;}</style><div id=\"sk-container-id-6\" class=\"sk-top-container\"><div class=\"sk-text-repr-fallback\"><pre>Lasso(alpha=2.0)</pre><b>In a Jupyter environment, please rerun this cell to show the HTML representation or trust the notebook. <br />On GitHub, the HTML representation is unable to render, please try loading this page with nbviewer.org.</b></div><div class=\"sk-container\" hidden><div class=\"sk-item\"><div class=\"sk-estimator sk-toggleable\"><input class=\"sk-toggleable__control sk-hidden--visually\" id=\"sk-estimator-id-6\" type=\"checkbox\" checked><label for=\"sk-estimator-id-6\" class=\"sk-toggleable__label sk-toggleable__label-arrow\">Lasso</label><div class=\"sk-toggleable__content\"><pre>Lasso(alpha=2.0)</pre></div></div></div></div></div>"
      ],
      "text/plain": [
       "Lasso(alpha=2.0)"
      ]
     },
     "execution_count": 27,
     "metadata": {},
     "output_type": "execute_result"
    }
   ],
   "source": [
    "# 拟合模型\n",
    "ols.fit(X_train_scaled, y_train)\n",
    "ridge.fit(X_train_scaled, y_train)\n",
    "lasso.fit(X_train_scaled, y_train)"
   ]
  },
  {
   "cell_type": "code",
   "execution_count": 28,
   "id": "b5b2f34c-c7d7-4c72-8e26-09b1e96ec5e4",
   "metadata": {
    "execution": {
     "iopub.execute_input": "2024-12-16T14:24:05.716154Z",
     "iopub.status.busy": "2024-12-16T14:24:05.715542Z",
     "iopub.status.idle": "2024-12-16T14:24:05.738858Z",
     "shell.execute_reply": "2024-12-16T14:24:05.736750Z",
     "shell.execute_reply.started": "2024-12-16T14:24:05.716110Z"
    }
   },
   "outputs": [
    {
     "name": "stdout",
     "output_type": "stream",
     "text": [
      "mse 151.2388576046553 236.76967483284452 178.3223030790967\n",
      "r2 0.9909439489679166 0.9858224381478664 0.9893222158483612\n"
     ]
    }
   ],
   "source": [
    "from sklearn.metrics import mean_squared_error\n",
    "\n",
    "y_pred_ols = ols.predict(X_test_scaled)\n",
    "y_pred_ridge = ridge.predict(X_test_scaled)\n",
    "y_pred_lasso = lasso.predict(X_test_scaled)\n",
    "\n",
    "# 计算MSE\n",
    "mse_ols = mean_squared_error(y_test, y_pred_ols)\n",
    "mse_ridge = mean_squared_error(y_test, y_pred_ridge)\n",
    "mse_lasso = mean_squared_error(y_test, y_pred_lasso)\n",
    "\n",
    "# 计算R²分数\n",
    "r2_ols = ols.score(X_test_scaled, y_test)\n",
    "r2_ridge = ridge.score(X_test_scaled, y_test)\n",
    "r2_lasso = lasso.score(X_test_scaled, y_test)\n",
    "\n",
    "print('mse', mse_ols, mse_ridge, mse_lasso)\n",
    "print('r2', r2_ols, r2_ridge, r2_lasso)"
   ]
  },
  {
   "cell_type": "code",
   "execution_count": 29,
   "id": "22aed4ee-b6af-47de-8b0d-8b1a9d47e899",
   "metadata": {
    "execution": {
     "iopub.execute_input": "2024-12-16T14:24:07.441324Z",
     "iopub.status.busy": "2024-12-16T14:24:07.440731Z",
     "iopub.status.idle": "2024-12-16T14:24:07.453500Z",
     "shell.execute_reply": "2024-12-16T14:24:07.451352Z",
     "shell.execute_reply.started": "2024-12-16T14:24:07.441280Z"
    }
   },
   "outputs": [
    {
     "name": "stdout",
     "output_type": "stream",
     "text": [
      "[ 5.69800347 93.95635476 38.78630983  0.70304159  0.92814908 -0.49252769\n",
      " 12.18486875 84.6952901  75.04417506 36.78957916  1.10805952  1.38774345\n",
      "  2.30328376  1.43636687 -0.80630567 31.35672256  8.64050549  1.55252526\n",
      " -0.14456932 46.12018342]\n",
      "[ 5.41219329e+00  8.91152818e+01  3.56837728e+01  2.01078783e+00\n",
      "  9.73875895e-01 -7.04275994e-01  1.08379498e+01  7.96407679e+01\n",
      "  7.03706996e+01  3.66375873e+01 -7.33302828e-03  1.74981107e+00\n",
      "  3.47049981e+00  8.84599420e-01 -1.52864109e+00  2.91177267e+01\n",
      "  7.52279345e+00 -8.20640815e-02 -9.67501018e-01  4.30522960e+01]\n",
      "[ 2.52873604 92.27844173 36.47519957  0.20606285 -0.         -0.\n",
      "  9.29359144 82.9759088  73.04675014 35.0622863   0.          0.\n",
      "  0.15494941  0.         -0.         29.34900273  5.42044995  0.\n",
      " -0.         44.98573546]\n"
     ]
    }
   ],
   "source": [
    "# 获取系数\n",
    "coef_ols = ols.coef_\n",
    "coef_ridge = ridge.coef_\n",
    "coef_lasso = lasso.coef_\n",
    "\n",
    "print(coef_ols)\n",
    "print(coef_ridge)\n",
    "print(coef_lasso)"
   ]
  },
  {
   "cell_type": "code",
   "execution_count": 30,
   "id": "6e888c5b-42f3-4cf2-a3a2-8f6bd369f1b7",
   "metadata": {
    "execution": {
     "iopub.execute_input": "2024-12-16T14:24:14.919836Z",
     "iopub.status.busy": "2024-12-16T14:24:14.919191Z",
     "iopub.status.idle": "2024-12-16T14:24:15.203820Z",
     "shell.execute_reply": "2024-12-16T14:24:15.202503Z",
     "shell.execute_reply.started": "2024-12-16T14:24:14.919790Z"
    }
   },
   "outputs": [
    {
     "data": {
      "image/png": "[encoded data removed]",
      "text/plain": [
       "<Figure size 1200x600 with 1 Axes>"
      ]
     },
     "metadata": {},
     "output_type": "display_data"
    }
   ],
   "source": [
    "# 绘图比较\n",
    "indices = np.arange(len(coef))\n",
    "width = 0.25\n",
    "\n",
    "plt.figure(figsize=(12, 6))\n",
    "plt.bar(indices - width, coef_ols, width=width, label='OLS')\n",
    "plt.bar(indices, coef_ridge, width=width, label='Ridge')\n",
    "plt.bar(indices + width, coef_lasso, width=width, label='Lasso')\n",
    "plt.axhline(0, color='grey', linewidth=0.8)\n",
    "plt.xlabel('Feature Index')\n",
    "plt.ylabel('Coefficient Value')\n",
    "plt.title('Comparison of Coefficients: OLS vs Ridge vs Lasso')\n",
    "plt.legend()\n",
    "plt.show()"
   ]
  },
  {
   "cell_type": "code",
   "execution_count": null,
   "id": "59901d5c-aac0-4e07-ad81-9b036f513183",
   "metadata": {},
   "outputs": [],
   "source": []
  }
 ],
 "metadata": {
  "kernelspec": {
   "display_name": "Python 3 (ipykernel)",
   "language": "python",
   "name": "python3"
  },
  "language_info": {
   "codemirror_mode": {
    "name": "ipython",
    "version": 3
   },
   "file_extension": ".py",
   "mimetype": "text/x-python",
   "name": "python",
   "nbconvert_exporter": "python",
   "pygments_lexer": "ipython3",
   "version": "3.10.13"
  }
 },
 "nbformat": 4,
 "nbformat_minor": 5
}
