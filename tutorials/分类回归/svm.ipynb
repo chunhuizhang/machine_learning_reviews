{
 "cells": [
  {
   "cell_type": "markdown",
   "id": "9e57982e",
   "metadata": {},
   "source": [
    "## svm 与 qp 优化问题"
   ]
  },
  {
   "cell_type": "markdown",
   "id": "df117459",
   "metadata": {},
   "source": [
    "- The core of an SVM is a quadratic programming problem (QP), separating support vectors from the rest of the training data.\n",
    "    - https://courses.csail.mit.edu/6.867/wiki/images/a/a7/Qp-cvxopt.pdf\n",
    "    - https://domino.ai/blog/fitting-support-vector-machines-quadratic-programming"
   ]
  },
  {
   "cell_type": "markdown",
   "id": "2330daf6",
   "metadata": {},
   "source": [
    "## `svm.SVC`"
   ]
  },
  {
   "cell_type": "markdown",
   "id": "6f705880-8f27-4bea-931f-ec21f0d4bddc",
   "metadata": {},
   "source": [
    "- 求解算法\n",
    "    - SMO：对于非线性问题，尤其是在使用核技术时，scikit-learn 使用的是 libsvm 库。libsvm 实现了 SMO 算法，\n",
    "        - SMO 算法通过将大优化问题分解为多个小的二次规划子问题来高效求解 SVM。\n",
    "    - liblinear：线性 SVM，scikit-learn 使用的是 liblinear 库。liblinear 是专为线性 SVM 设计的，适用于大规模数据集。它使用坐标下降法（Coordinate Descent）和其他线性优化技术来求解优化问题。\n",
    "    - 为什么不用 QP（quadratic programming）\n",
    "        - 出于效率的考虑，QP 的约束（Gx<=h, Ax=b）是样本级别的大小；"
   ]
  },
  {
   "cell_type": "code",
   "execution_count": 1,
   "id": "fddd3540",
   "metadata": {
    "ExecuteTime": {
     "end_time": "2023-11-07T15:22:18.071265Z",
     "start_time": "2023-11-07T15:22:17.490880Z"
    }
   },
   "outputs": [],
   "source": [
    "from sklearn import svm"
   ]
  },
  {
   "cell_type": "code",
   "execution_count": 2,
   "id": "4289b6ff",
   "metadata": {
    "ExecuteTime": {
     "end_time": "2023-11-07T15:22:22.828239Z",
     "start_time": "2023-11-07T15:22:22.757062Z"
    }
   },
   "outputs": [],
   "source": [
    "svm.SVC??"
   ]
  }
 ],
 "metadata": {
  "kernelspec": {
   "display_name": "Python 3 (ipykernel)",
   "language": "python",
   "name": "python3"
  },
  "language_info": {
   "codemirror_mode": {
    "name": "ipython",
    "version": 3
   },
   "file_extension": ".py",
   "mimetype": "text/x-python",
   "name": "python",
   "nbconvert_exporter": "python",
   "pygments_lexer": "ipython3",
   "version": "3.10.13"
  },
  "toc": {
   "base_numbering": 1,
   "nav_menu": {},
   "number_sections": true,
   "sideBar": true,
   "skip_h1_title": false,
   "title_cell": "Table of Contents",
   "title_sidebar": "Contents",
   "toc_cell": false,
   "toc_position": {},
   "toc_section_display": true,
   "toc_window_display": false
  }
 },
 "nbformat": 4,
 "nbformat_minor": 5
}
