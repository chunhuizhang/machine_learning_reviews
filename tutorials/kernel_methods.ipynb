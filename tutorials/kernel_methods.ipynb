{
 "cells": [
  {
   "cell_type": "markdown",
   "id": "8ccbeddd",
   "metadata": {},
   "source": [
    "## basics"
   ]
  },
  {
   "cell_type": "markdown",
   "id": "7be99c5b",
   "metadata": {},
   "source": [
    "### generatized dot product"
   ]
  },
  {
   "cell_type": "markdown",
   "id": "b12aa3e6",
   "metadata": {},
   "source": [
    "- Kernel is a way of computing the dot product of two vectors $x$ and $y$ in some (possibly very high dimensional) feature space, which is why kernel functions are sometimes called \"generalized dot product\".\n",
    "\n",
    "- $\\varphi: \\mathbb R^n\\rightarrow \\mathbb R^m$，将 $\\mathbb R^n$ 空间中的 vector 映射到 $\\mathbb R^m$ 里，则这个空间中 $x$ 与 $y$ 的内积定义为：\n",
    "\n",
    "$$\n",
    "k(x,y)=\\varphi(x)^T\\varphi(y)\n",
    "$$\n",
    "\n",
    "\n",
    "- \"内积\"一般而言的意义是度量距离（distance）/相似性（similarity）"
   ]
  },
  {
   "cell_type": "markdown",
   "id": "a377eb84",
   "metadata": {},
   "source": [
    "- 性质\n",
    "    - Kernels give a way to compute dot products in some feature space without even knowing what this space is and what is $\\varphi$\n",
    "    - $k(x,y)$ 得到的是一个标量值，$\\varphi(\\cdot)$ 的形式不唯一"
   ]
  },
  {
   "cell_type": "markdown",
   "id": "3b36a35a",
   "metadata": {},
   "source": [
    "- 空间变化：比如升维：\n",
    "\n",
    "$$\n",
    "(x_1, x_2) :\\rightarrow (z_1,z_2,z_3)\\\\\n",
    "z_1=\\sqrt 2x_1x_2\\\\\n",
    "z_2=x_1^2\\\\\n",
    "z_3=x_2^2\n",
    "$$"
   ]
  },
  {
   "cell_type": "markdown",
   "id": "4e0e9838",
   "metadata": {},
   "source": [
    "### a simple polynomial kernel "
   ]
  },
  {
   "cell_type": "markdown",
   "id": "1ad67f32",
   "metadata": {},
   "source": [
    "$$\n",
    "k(x,y)=(1+x^Ty)^2, \\quad x,y\\in \\mathbb R^2\n",
    "$$\n",
    "\n",
    "- 似乎这里没有 $\\varphi(\\cdot)$，\n",
    "- 假如 $x=(x_1,x_2), y=(y_1,y_2)$，则有\n",
    "\n",
    "$$\n",
    "\\begin{split}\n",
    "k(x,y)&=(1+x^Ty)^2=(1+x_1y_1+x_2y_2)^2\\\\\n",
    "&=1+x_1^2x_2^2+y_1^2y_2^2+2x_1y_1+2x_2y_2+2x_1x_2y_1y_2\\\\\n",
    "&=(1,x_1^2,x_2^2,\\sqrt2x_1,\\sqrt2x_2,\\sqrt2x_1x_2)\\cdot (1,y_1^2,y_2^2,\\sqrt2y_1,\\sqrt2y_2,\\sqrt2y_1y_2)\\\\\n",
    "&=\\varphi(x)^T\\varphi(y)\n",
    "\\end{split}\n",
    "$$"
   ]
  },
  {
   "cell_type": "code",
   "execution_count": 1,
   "id": "bec8c32c",
   "metadata": {
    "ExecuteTime": {
     "end_time": "2023-11-07T14:52:17.728685Z",
     "start_time": "2023-11-07T14:52:17.722617Z"
    }
   },
   "outputs": [],
   "source": [
    "import sympy\n",
    "from sympy import symbols"
   ]
  },
  {
   "cell_type": "code",
   "execution_count": 4,
   "id": "41dbdb17",
   "metadata": {
    "ExecuteTime": {
     "end_time": "2023-11-07T14:54:26.180487Z",
     "start_time": "2023-11-07T14:54:25.917226Z"
    }
   },
   "outputs": [
    {
     "data": {
      "text/latex": [
       "$\\displaystyle x_{1}^{2} y_{1}^{2} + 2 x_{1} x_{2} y_{1} y_{2} + 2 x_{1} y_{1} + x_{2}^{2} y_{2}^{2} + 2 x_{2} y_{2} + 1$"
      ],
      "text/plain": [
       "x1**2*y1**2 + 2*x1*x2*y1*y2 + 2*x1*y1 + x2**2*y2**2 + 2*x2*y2 + 1"
      ]
     },
     "execution_count": 4,
     "metadata": {},
     "output_type": "execute_result"
    }
   ],
   "source": [
    "x1, x2, y1, y2 = symbols('x1, x2, y1, y2')\n",
    "v1 = sympy.Matrix([1, x1**2, x2**2, sympy.sqrt(2)*x1, sympy.sqrt(2)*x2, sympy.sqrt(2)*x1*x2])\n",
    "v2 = sympy.Matrix([1, y1**2, y2**2, sympy.sqrt(2)*y1, sympy.sqrt(2)*y2, sympy.sqrt(2)*y1*y2])\n",
    "v1.dot(v2)"
   ]
  },
  {
   "cell_type": "markdown",
   "id": "637334bf",
   "metadata": {},
   "source": [
    "### 多项式核：$(x^Ty)^d$"
   ]
  },
  {
   "cell_type": "markdown",
   "id": "107b9ff5",
   "metadata": {},
   "source": [
    "- 形式1\n",
    "$$\n",
    "\\begin{aligned}\n",
    "    k(x,y)&=(x^Ty)^2\\\\\n",
    "    &=k\\left(\\begin{pmatrix} x_1 \\\\ x_2 \\end{pmatrix}, \\begin{pmatrix} x_1' \\\\ x_2' \\end{pmatrix}\\right) \\\\\n",
    "    & = (x_1x_1' + x_2x_2')^2\n",
    "    \\\\\n",
    "    & = 2x_1x_1'x_2x_2' + (x_1x_1')^2 + (x_2x_2')^2\n",
    "    \\\\\n",
    "    & = (\\sqrt{2}x_1x_2,  \\ x_1^2, \\ x_2^2) \\ \\begin{pmatrix} \\sqrt{2}x_1'x_2' \\\\ x_1'^2  \\\\ x_2'^2 \\end{pmatrix}\n",
    "    \\end{aligned}\\\\\n",
    "k(\\begin{pmatrix} x_1 \\\\ x_2 \\end{pmatrix}, \\begin{pmatrix} x_1' \\\\ x_2' \\end{pmatrix} ) = \\phi(\\mathbf{x})^T \\phi(\\mathbf{x'})\\\\\n",
    "\\phi(\\begin{pmatrix} x_1 \\\\ x_2 \\end{pmatrix}) =\\begin{pmatrix}  \\sqrt{2}x_1x_2 \\\\ x_1^2 \\\\ x_2^2 \\end{pmatrix}\n",
    "$$"
   ]
  },
  {
   "cell_type": "markdown",
   "id": "6d1a6a99",
   "metadata": {},
   "source": [
    "- 形式2\n",
    "\n",
    "$$\n",
    "\\begin{aligned}\n",
    "    K(x,y) & = \\left( \\sum_i^n x_i y_i\\right)  \\left( \\sum_j^n x_j y_j\\right)\n",
    "    \\\\\n",
    "    & = \\sum_i^n  \\sum_j^n x_i x_j y_i y_j \n",
    "    \\\\\n",
    "    & = \\sum_{i,j}^n (x_i x_j )(y_i y_j)\n",
    "    \\\\\n",
    "    & = \\phi(x)^T \\phi(y)\\\\\n",
    "    \\phi(x) &= \\begin{bmatrix} x_1 x_1 \\\\ x_1 x_2 \\\\ x_2x_1 \\\\ x_2 x_2 \\end{bmatrix}\n",
    "\\end{aligned}\n",
    "$$"
   ]
  },
  {
   "cell_type": "code",
   "execution_count": 10,
   "id": "a81c95da",
   "metadata": {
    "ExecuteTime": {
     "end_time": "2023-11-07T15:11:25.587351Z",
     "start_time": "2023-11-07T15:11:25.569058Z"
    }
   },
   "outputs": [
    {
     "data": {
      "text/latex": [
       "$\\displaystyle x_{1}^{2} z_{1}^{2} + 2 x_{1} x_{2} z_{1} z_{2} + x_{2}^{2} z_{2}^{2}$"
      ],
      "text/plain": [
       "x1**2*z1**2 + 2*x1*x2*z1*z2 + x2**2*z2**2"
      ]
     },
     "execution_count": 10,
     "metadata": {},
     "output_type": "execute_result"
    }
   ],
   "source": [
    "x1, x2, z1, z2 = symbols('x1,x2,z1,z2')\n",
    "v1 = sympy.Matrix([x1*x1, x1*x2, x2*x1, x2*x2])\n",
    "v2 = sympy.Matrix([z1*z1, z1*z2, z2*z1, z2*z2])\n",
    "v1.dot(v2)"
   ]
  },
  {
   "cell_type": "code",
   "execution_count": 11,
   "id": "16a8d521",
   "metadata": {
    "ExecuteTime": {
     "end_time": "2023-11-07T15:11:31.619824Z",
     "start_time": "2023-11-07T15:11:31.607668Z"
    }
   },
   "outputs": [
    {
     "data": {
      "text/latex": [
       "$\\displaystyle \\left(x_{1} z_{1} + x_{2} z_{2}\\right)^{2}$"
      ],
      "text/plain": [
       "(x1*z1 + x2*z2)**2"
      ]
     },
     "execution_count": 11,
     "metadata": {},
     "output_type": "execute_result"
    }
   ],
   "source": [
    "(x1*z1+x2*z2)**2"
   ]
  },
  {
   "cell_type": "code",
   "execution_count": 9,
   "id": "201f3f84",
   "metadata": {
    "ExecuteTime": {
     "end_time": "2023-11-07T15:11:03.027324Z",
     "start_time": "2023-11-07T15:11:02.998501Z"
    }
   },
   "outputs": [
    {
     "data": {
      "text/latex": [
       "$\\displaystyle x_{1}^{2} z_{1}^{2} + 2 x_{1} x_{2} z_{1} z_{2} + x_{2}^{2} z_{2}^{2}$"
      ],
      "text/plain": [
       "x1**2*z1**2 + 2*x1*x2*z1*z2 + x2**2*z2**2"
      ]
     },
     "execution_count": 9,
     "metadata": {},
     "output_type": "execute_result"
    }
   ],
   "source": [
    "x1, x2, z1, z2 = symbols('x1,x2,z1,z2')\n",
    "v1 = sympy.Matrix([sympy.sqrt(2)*x1*x2, x1*x1, x2*x2])\n",
    "v2 = sympy.Matrix([sympy.sqrt(2)*z1*z2, z1*z1, z2*z2])\n",
    "v1.dot(v2)"
   ]
  }
 ],
 "metadata": {
  "kernelspec": {
   "display_name": "Python 3 (ipykernel)",
   "language": "python",
   "name": "python3"
  },
  "language_info": {
   "codemirror_mode": {
    "name": "ipython",
    "version": 3
   },
   "file_extension": ".py",
   "mimetype": "text/x-python",
   "name": "python",
   "nbconvert_exporter": "python",
   "pygments_lexer": "ipython3",
   "version": "3.10.9"
  },
  "toc": {
   "base_numbering": 1,
   "nav_menu": {},
   "number_sections": true,
   "sideBar": true,
   "skip_h1_title": false,
   "title_cell": "Table of Contents",
   "title_sidebar": "Contents",
   "toc_cell": false,
   "toc_position": {},
   "toc_section_display": true,
   "toc_window_display": false
  }
 },
 "nbformat": 4,
 "nbformat_minor": 5
}
