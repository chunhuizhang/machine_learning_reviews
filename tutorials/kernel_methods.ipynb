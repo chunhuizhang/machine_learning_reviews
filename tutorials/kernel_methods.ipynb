{
 "cells": [
  {
   "cell_type": "markdown",
   "id": "8956c34e",
   "metadata": {},
   "source": [
    "## basics"
   ]
  },
  {
   "cell_type": "markdown",
   "id": "25f85e8f",
   "metadata": {},
   "source": [
    "### generatized dot product"
   ]
  },
  {
   "cell_type": "markdown",
   "id": "16fc3ed6",
   "metadata": {},
   "source": [
    "- Kernel is a way of computing the dot product of two vectors $x$ and $y$ in some (possibly very high dimensional) feature space, which is why kernel functions are sometimes called \"generalized dot product\".\n",
    "\n",
    "- $\\varphi: \\mathbb R^n\\rightarrow \\mathbb R^m$，将 $\\mathbb R^n$ 空间中的 vector 映射到 $\\mathbb R^m$ 里，则这个空间中 $x$ 与 $y$ 的内积定义为：\n",
    "\n",
    "$$\n",
    "k(x,y)=\\varphi(x)^T\\varphi(y)\n",
    "$$\n",
    "\n"
   ]
  },
  {
   "cell_type": "markdown",
   "id": "7c683124",
   "metadata": {},
   "source": [
    "- 性质\n",
    "    - Kernels give a way to compute dot products in some feature space without even knowing what this space is and what is $\\varphi$"
   ]
  },
  {
   "cell_type": "markdown",
   "id": "f1fae098",
   "metadata": {},
   "source": [
    "### a simple polynomial kernel "
   ]
  },
  {
   "cell_type": "markdown",
   "id": "d2e56de6",
   "metadata": {},
   "source": [
    "$$\n",
    "k(x,y)=(1+x^Ty)^2, \\quad x,y\\in \\mathbb R^2\n",
    "$$\n",
    "\n",
    "- 似乎这里没有 $\\varphi(\\cdot)$，\n",
    "- 假如 $x=(x_1,x_2), y=(y_1,y_2)$，则有\n",
    "\n",
    "$$\n",
    "\\begin{split}\n",
    "k(x,y)&=(1+x^Ty)^2=(1+x_1y_1+x_2y_2)^2\\\\\n",
    "&=1+x_1^2x_2^2+y_1^2y_2^2+2x_1y_1+2x_2y_2+2x_1x_2y_1y_2\\\\\n",
    "&=(1,x_1^2,x_2^2,\\sqrt2x_1,\\sqrt2x_2,\\sqrt2x_1x_2)\\cdot (1,y_1^2,y_2^2,\\sqrt2y_1,\\sqrt2y_2,\\sqrt2y_1y_2)\\\\\n",
    "&=\\varphi(x)^T\\varphi(y)\n",
    "\\end{split}\n",
    "$$"
   ]
  },
  {
   "cell_type": "code",
   "execution_count": 1,
   "id": "fb849726",
   "metadata": {
    "ExecuteTime": {
     "end_time": "2023-11-07T14:52:17.728685Z",
     "start_time": "2023-11-07T14:52:17.722617Z"
    }
   },
   "outputs": [],
   "source": [
    "import sympy\n",
    "from sympy import symbols"
   ]
  },
  {
   "cell_type": "code",
   "execution_count": 4,
   "id": "04e6b963",
   "metadata": {
    "ExecuteTime": {
     "end_time": "2023-11-07T14:54:26.180487Z",
     "start_time": "2023-11-07T14:54:25.917226Z"
    }
   },
   "outputs": [
    {
     "data": {
      "text/latex": [
       "$\\displaystyle x_{1}^{2} y_{1}^{2} + 2 x_{1} x_{2} y_{1} y_{2} + 2 x_{1} y_{1} + x_{2}^{2} y_{2}^{2} + 2 x_{2} y_{2} + 1$"
      ],
      "text/plain": [
       "x1**2*y1**2 + 2*x1*x2*y1*y2 + 2*x1*y1 + x2**2*y2**2 + 2*x2*y2 + 1"
      ]
     },
     "execution_count": 4,
     "metadata": {},
     "output_type": "execute_result"
    }
   ],
   "source": [
    "x1, x2, y1, y2 = symbols('x1, x2, y1, y2')\n",
    "v1 = sympy.Matrix([1, x1**2, x2**2, sympy.sqrt(2)*x1, sympy.sqrt(2)*x2, sympy.sqrt(2)*x1*x2])\n",
    "v2 = sympy.Matrix([1, y1**2, y2**2, sympy.sqrt(2)*y1, sympy.sqrt(2)*y2, sympy.sqrt(2)*y1*y2])\n",
    "v1.dot(v2)"
   ]
  }
 ],
 "metadata": {
  "kernelspec": {
   "display_name": "Python 3 (ipykernel)",
   "language": "python",
   "name": "python3"
  },
  "language_info": {
   "codemirror_mode": {
    "name": "ipython",
    "version": 3
   },
   "file_extension": ".py",
   "mimetype": "text/x-python",
   "name": "python",
   "nbconvert_exporter": "python",
   "pygments_lexer": "ipython3",
   "version": "3.10.9"
  },
  "toc": {
   "base_numbering": 1,
   "nav_menu": {},
   "number_sections": true,
   "sideBar": true,
   "skip_h1_title": false,
   "title_cell": "Table of Contents",
   "title_sidebar": "Contents",
   "toc_cell": false,
   "toc_position": {},
   "toc_section_display": true,
   "toc_window_display": false
  }
 },
 "nbformat": 4,
 "nbformat_minor": 5
}
