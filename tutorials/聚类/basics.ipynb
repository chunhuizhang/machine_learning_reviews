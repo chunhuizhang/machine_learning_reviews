{
 "cells": [
  {
   "cell_type": "markdown",
   "id": "65913b58-f50f-42f8-805a-b56215494e2a",
   "metadata": {},
   "source": [
    "- 聚类类别结果分析\n",
    "    - 质心对比分析，\n",
    "        - centroid\n",
    "        - Representative docs 对比分析；"
   ]
  }
 ],
 "metadata": {
  "kernelspec": {
   "display_name": "Python 3 (ipykernel)",
   "language": "python",
   "name": "python3"
  },
  "language_info": {
   "codemirror_mode": {
    "name": "ipython",
    "version": 3
   },
   "file_extension": ".py",
   "mimetype": "text/x-python",
   "name": "python",
   "nbconvert_exporter": "python",
   "pygments_lexer": "ipython3",
   "version": "3.10.13"
  }
 },
 "nbformat": 4,
 "nbformat_minor": 5
}
